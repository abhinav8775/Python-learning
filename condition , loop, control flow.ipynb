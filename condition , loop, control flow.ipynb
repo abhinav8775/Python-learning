{
 "cells": [
  {
   "cell_type": "markdown",
   "id": "22035c58",
   "metadata": {},
   "source": [
    "# Python \n"
   ]
  },
  {
   "cell_type": "raw",
   "id": "f373067e",
   "metadata": {},
   "source": [
    "to create new cell press esc then a"
   ]
  },
  {
   "cell_type": "raw",
   "id": "2af3a3ab",
   "metadata": {},
   "source": [
    "to del the cell press esc then dd"
   ]
  },
  {
   "cell_type": "code",
   "execution_count": 1,
   "id": "db5cd71d",
   "metadata": {},
   "outputs": [
    {
     "name": "stdout",
     "output_type": "stream",
     "text": [
      "hello World!\n"
     ]
    }
   ],
   "source": [
    "print(\"hello World!\")"
   ]
  },
  {
   "cell_type": "raw",
   "id": "d0206d16",
   "metadata": {},
   "source": [
    "what a function does= shift +tab"
   ]
  },
  {
   "cell_type": "code",
   "execution_count": 2,
   "id": "bb993219",
   "metadata": {},
   "outputs": [
    {
     "name": "stdout",
     "output_type": "stream",
     "text": [
      "my name is \n",
      " Abhinav\n"
     ]
    }
   ],
   "source": [
    "print(\"my name is \\n Abhinav\")"
   ]
  },
  {
   "cell_type": "code",
   "execution_count": 3,
   "id": "30b800a6",
   "metadata": {},
   "outputs": [],
   "source": [
    "## variable assignment "
   ]
  },
  {
   "cell_type": "code",
   "execution_count": 9,
   "id": "036ad663",
   "metadata": {},
   "outputs": [
    {
     "name": "stdout",
     "output_type": "stream",
     "text": [
      "abhinav\n",
      "26\n",
      "20.5\n",
      "<class 'str'>\n"
     ]
    }
   ],
   "source": [
    "name=\"abhinav\"\n",
    "age=26\n",
    "time=20.5\n",
    "print(name)\n",
    "print(age)\n",
    "print(time)\n",
    "print(type(name))"
   ]
  },
  {
   "cell_type": "raw",
   "id": "db52387e",
   "metadata": {},
   "source": [
    "allow varivale to come by itself press 1 or 2 staring char then press tab eg. na then tab name will come by itself"
   ]
  },
  {
   "cell_type": "raw",
   "id": "8fcbc7ef",
   "metadata": {},
   "source": [
    "don't use reserve keywords as the variable name"
   ]
  },
  {
   "cell_type": "code",
   "execution_count": 12,
   "id": "7b3d0c52",
   "metadata": {},
   "outputs": [
    {
     "data": {
      "text/plain": [
       "False"
      ]
     },
     "execution_count": 12,
     "metadata": {},
     "output_type": "execute_result"
    }
   ],
   "source": [
    "True\n",
    "False"
   ]
  },
  {
   "cell_type": "code",
   "execution_count": 16,
   "id": "67753dfb",
   "metadata": {},
   "outputs": [
    {
     "name": "stdout",
     "output_type": "stream",
     "text": [
      "<class 'bool'>\n",
      "<class 'bool'>\n"
     ]
    }
   ],
   "source": [
    "print(type(True))\n",
    "print(type(False))"
   ]
  },
  {
   "cell_type": "code",
   "execution_count": 17,
   "id": "46cdb0db",
   "metadata": {},
   "outputs": [
    {
     "data": {
      "text/plain": [
       "False"
      ]
     },
     "execution_count": 17,
     "metadata": {},
     "output_type": "execute_result"
    }
   ],
   "source": [
    "True and False"
   ]
  },
  {
   "cell_type": "code",
   "execution_count": 18,
   "id": "feec313f",
   "metadata": {},
   "outputs": [
    {
     "data": {
      "text/plain": [
       "True"
      ]
     },
     "execution_count": 18,
     "metadata": {},
     "output_type": "execute_result"
    }
   ],
   "source": [
    "True or False"
   ]
  },
  {
   "cell_type": "code",
   "execution_count": 19,
   "id": "6a9523de",
   "metadata": {},
   "outputs": [
    {
     "data": {
      "text/plain": [
       "False"
      ]
     },
     "execution_count": 19,
     "metadata": {},
     "output_type": "execute_result"
    }
   ],
   "source": [
    "not True"
   ]
  },
  {
   "cell_type": "code",
   "execution_count": 22,
   "id": "1351eb4e",
   "metadata": {},
   "outputs": [
    {
     "data": {
      "text/plain": [
       "bool"
      ]
     },
     "execution_count": 22,
     "metadata": {},
     "output_type": "execute_result"
    }
   ],
   "source": [
    "type(not False)"
   ]
  },
  {
   "cell_type": "code",
   "execution_count": 23,
   "id": "30195dcb",
   "metadata": {},
   "outputs": [
    {
     "data": {
      "text/plain": [
       "False"
      ]
     },
     "execution_count": 23,
     "metadata": {},
     "output_type": "execute_result"
    }
   ],
   "source": [
    "bool(0)"
   ]
  },
  {
   "cell_type": "code",
   "execution_count": 24,
   "id": "e14f701f",
   "metadata": {},
   "outputs": [
    {
     "data": {
      "text/plain": [
       "True"
      ]
     },
     "execution_count": 24,
     "metadata": {},
     "output_type": "execute_result"
    }
   ],
   "source": [
    "bool(1)"
   ]
  },
  {
   "cell_type": "code",
   "execution_count": 26,
   "id": "65dbb229",
   "metadata": {},
   "outputs": [
    {
     "name": "stdout",
     "output_type": "stream",
     "text": [
      "true\n"
     ]
    }
   ],
   "source": [
    "a=1\n",
    "if bool(a)==True:\n",
    "    print(\"true\")"
   ]
  },
  {
   "cell_type": "code",
   "execution_count": 27,
   "id": "6aec3a2b",
   "metadata": {},
   "outputs": [],
   "source": [
    "#type Casting:"
   ]
  },
  {
   "cell_type": "code",
   "execution_count": 28,
   "id": "a2483821",
   "metadata": {},
   "outputs": [
    {
     "data": {
      "text/plain": [
       "'23'"
      ]
     },
     "execution_count": 28,
     "metadata": {},
     "output_type": "execute_result"
    }
   ],
   "source": [
    "str(23)"
   ]
  },
  {
   "cell_type": "code",
   "execution_count": 29,
   "id": "367ad7d5",
   "metadata": {},
   "outputs": [
    {
     "data": {
      "text/plain": [
       "23.0"
      ]
     },
     "execution_count": 29,
     "metadata": {},
     "output_type": "execute_result"
    }
   ],
   "source": [
    "float(23)"
   ]
  },
  {
   "cell_type": "code",
   "execution_count": 31,
   "id": "e82a3c5a",
   "metadata": {},
   "outputs": [
    {
     "data": {
      "text/plain": [
       "23"
      ]
     },
     "execution_count": 31,
     "metadata": {},
     "output_type": "execute_result"
    }
   ],
   "source": [
    "int(\"23\")"
   ]
  },
  {
   "cell_type": "code",
   "execution_count": 32,
   "id": "41f265bf",
   "metadata": {},
   "outputs": [
    {
     "data": {
      "text/plain": [
       "int"
      ]
     },
     "execution_count": 32,
     "metadata": {},
     "output_type": "execute_result"
    }
   ],
   "source": [
    "type(int(\"23\"))"
   ]
  },
  {
   "cell_type": "code",
   "execution_count": 33,
   "id": "6f0deca6",
   "metadata": {},
   "outputs": [],
   "source": [
    "## concatination"
   ]
  },
  {
   "cell_type": "code",
   "execution_count": 34,
   "id": "0710c748",
   "metadata": {},
   "outputs": [
    {
     "data": {
      "text/plain": [
       "'11'"
      ]
     },
     "execution_count": 34,
     "metadata": {},
     "output_type": "execute_result"
    }
   ],
   "source": [
    "\"1\"+\"1\""
   ]
  },
  {
   "cell_type": "code",
   "execution_count": 35,
   "id": "b3a681ca",
   "metadata": {},
   "outputs": [
    {
     "data": {
      "text/plain": [
       "2"
      ]
     },
     "execution_count": 35,
     "metadata": {},
     "output_type": "execute_result"
    }
   ],
   "source": [
    "int(\"1\")+int(\"1\")"
   ]
  },
  {
   "cell_type": "code",
   "execution_count": 36,
   "id": "b9bd2122",
   "metadata": {},
   "outputs": [
    {
     "data": {
      "text/plain": [
       "'hello world'"
      ]
     },
     "execution_count": 36,
     "metadata": {},
     "output_type": "execute_result"
    }
   ],
   "source": [
    "\"hello\"+\" \"+\"world\""
   ]
  },
  {
   "cell_type": "code",
   "execution_count": 37,
   "id": "41027e34",
   "metadata": {},
   "outputs": [
    {
     "data": {
      "text/plain": [
       "'11111111111111111111111111111111111111111111111111111111111111111111111111111111111111111111111111111111111111'"
      ]
     },
     "execution_count": 37,
     "metadata": {},
     "output_type": "execute_result"
    }
   ],
   "source": [
    "\"1\"*110"
   ]
  },
  {
   "cell_type": "code",
   "execution_count": 41,
   "id": "0af73e8b",
   "metadata": {},
   "outputs": [
    {
     "name": "stdout",
     "output_type": "stream",
     "text": [
      "my age is: 26\n",
      "my age is 26\n"
     ]
    }
   ],
   "source": [
    "age=26\n",
    "print(\"my age is:\", age)\n",
    "print(f\"my age is: {age}\") #string formatting"
   ]
  },
  {
   "cell_type": "code",
   "execution_count": 56,
   "id": "002e8173",
   "metadata": {},
   "outputs": [
    {
     "name": "stdout",
     "output_type": "stream",
     "text": [
      "my name is abhinav and my age is 26\n",
      "my age is 26 and my name is abhinav\n",
      "my first name is abhinav and my surname is name is chauhan\n"
     ]
    }
   ],
   "source": [
    "name=\"abhinav\"\n",
    "last_name=\"chauhan\"\n",
    "age=26\n",
    "print(\"my name is {} and my age is {}\".format(name, age))\n",
    "print(\"my age is {} and my name is {}\".format(age, name))\n",
    "print(\"my first name is {first_name} and my surname is name is {surname}\".format(first_name=name, surname=last_name)) #"
   ]
  },
  {
   "cell_type": "markdown",
   "id": "9f760557",
   "metadata": {},
   "source": [
    "# control flow and decision making "
   ]
  },
  {
   "cell_type": "code",
   "execution_count": 57,
   "id": "44ae33d2",
   "metadata": {},
   "outputs": [],
   "source": [
    "# if , #else, #elseif\n"
   ]
  },
  {
   "cell_type": "code",
   "execution_count": 7,
   "id": "ac67bf1e",
   "metadata": {},
   "outputs": [
    {
     "name": "stdout",
     "output_type": "stream",
     "text": [
      "enter your age20\n",
      "you can vote\n"
     ]
    }
   ],
   "source": [
    "age=int(input(\"enter your age\"))\n",
    "if age>18:\n",
    "    print(\"you can vote\")\n",
    "elif age==18:\n",
    "    print(\"you just become eligible to vote\")\n",
    "else:\n",
    "    print(\"you can't vote\")\n",
    "    "
   ]
  },
  {
   "cell_type": "code",
   "execution_count": 3,
   "id": "188d62b5",
   "metadata": {},
   "outputs": [
    {
     "name": "stdout",
     "output_type": "stream",
     "text": [
      "enter age: 46\n",
      "you are not young blood\n"
     ]
    }
   ],
   "source": [
    "age=int(input(\"enter age: \"))\n",
    "if age>=18 and age<=45:\n",
    "    print(\"you are young blood\")\n",
    "else:\n",
    "    if age<17:\n",
    "        print(\"you are too young \")\n",
    "    if age>45:\n",
    "        print(\"you are not young blood\")\n",
    "    "
   ]
  },
  {
   "cell_type": "code",
   "execution_count": 3,
   "id": "86114e6e",
   "metadata": {},
   "outputs": [
    {
     "data": {
      "text/plain": [
       "False"
      ]
     },
     "execution_count": 3,
     "metadata": {},
     "output_type": "execute_result"
    }
   ],
   "source": [
    "True and False"
   ]
  },
  {
   "cell_type": "code",
   "execution_count": 4,
   "id": "b35bd556",
   "metadata": {},
   "outputs": [
    {
     "data": {
      "text/plain": [
       "True"
      ]
     },
     "execution_count": 4,
     "metadata": {},
     "output_type": "execute_result"
    }
   ],
   "source": [
    "True or True"
   ]
  },
  {
   "cell_type": "code",
   "execution_count": 5,
   "id": "ed322960",
   "metadata": {},
   "outputs": [
    {
     "name": "stdout",
     "output_type": "stream",
     "text": [
      "enter the price of the product : 2999\n",
      "you will get a suitcase\n",
      "you will get only 10% discount: 2699.1\n"
     ]
    }
   ],
   "source": [
    "price=int(input(\"enter the price of the product : \"))\n",
    "if price<1000:\n",
    "    print(\"price after 30% discount is :\", price*0.7)\n",
    "elif price>=1000 and price<=2000:\n",
    "    print(\"price after 20% discount is :\", price *.80)\n",
    "else:\n",
    "    if price==2999:\n",
    "        print(\"you will get a suitcase\")\n",
    "    print(\"you will get only 10% discount:\", price*.90)"
   ]
  },
  {
   "cell_type": "markdown",
   "id": "4119d4e3",
   "metadata": {},
   "source": [
    "## loop statement"
   ]
  },
  {
   "cell_type": "code",
   "execution_count": 7,
   "id": "b5a8803e",
   "metadata": {},
   "outputs": [],
   "source": [
    "# while loop\n",
    "# for loop\n",
    "# nested loop\n",
    "# loop control( break, continue, pass)\n"
   ]
  },
  {
   "cell_type": "raw",
   "id": "8f2fe859",
   "metadata": {},
   "source": [
    " while loop"
   ]
  },
  {
   "cell_type": "code",
   "execution_count": 11,
   "id": "74f4dbbc",
   "metadata": {},
   "outputs": [
    {
     "name": "stdout",
     "output_type": "stream",
     "text": [
      "25\n",
      "26\n",
      "27\n",
      "28\n",
      "29\n",
      "30\n",
      "31\n",
      "32\n",
      "33\n",
      "34\n",
      "35\n",
      "36\n",
      "37\n",
      "38\n",
      "39\n",
      "40\n",
      "41\n",
      "42\n",
      "43\n",
      "44\n",
      "45\n",
      "46\n",
      "47\n",
      "48\n",
      "49\n",
      "50\n",
      "51\n",
      "52\n",
      "53\n",
      "54\n",
      "55\n",
      "56\n",
      "57\n",
      "58\n",
      "59\n",
      "60\n",
      "time for retirement\n"
     ]
    }
   ],
   "source": [
    "joining=25\n",
    "while joining<=60:\n",
    "     print(joining)\n",
    "     joining=joining+1\n",
    "else:\n",
    "    print(\"time for retirement\")"
   ]
  },
  {
   "cell_type": "code",
   "execution_count": 10,
   "id": "572314a1",
   "metadata": {},
   "outputs": [
    {
     "name": "stdout",
     "output_type": "stream",
     "text": [
      "money left: 1000\n",
      "money left: 900\n",
      "money left: 800\n",
      "money left: 700\n",
      "money left: 600\n",
      "money left: 500\n",
      "money left: 400\n",
      "money left: 300\n",
      "money left: 200\n",
      "money left: 100\n",
      "money left: 0\n",
      "out of cash\n"
     ]
    }
   ],
   "source": [
    "money=1000\n",
    "while money>-1:\n",
    "    print(\"money left:\", money)\n",
    "    money=money-100\n",
    "else:\n",
    "    print(\"out of cash\")\n",
    "    "
   ]
  },
  {
   "cell_type": "raw",
   "id": "64efde0b",
   "metadata": {},
   "source": [
    "for loop"
   ]
  },
  {
   "cell_type": "code",
   "execution_count": 11,
   "id": "7d445356",
   "metadata": {},
   "outputs": [
    {
     "name": "stdout",
     "output_type": "stream",
     "text": [
      "1\n",
      "2\n",
      "3\n",
      "4\n",
      "5\n",
      "6\n",
      "7\n",
      "8\n",
      "9\n"
     ]
    }
   ],
   "source": [
    "lis=[1,2,3,4,5,6,7,8,9]\n",
    "for i in lis:\n",
    "    print(i)\n",
    "#print elements in the list"
   ]
  },
  {
   "cell_type": "code",
   "execution_count": 13,
   "id": "e6eb42ba",
   "metadata": {},
   "outputs": [
    {
     "name": "stdout",
     "output_type": "stream",
     "text": [
      "0\n",
      "1\n",
      "2\n",
      "3\n",
      "4\n",
      "5\n",
      "6\n",
      "7\n",
      "8\n"
     ]
    }
   ],
   "source": [
    "lis=[1,2,3,4,5,6,7,8,9]\n",
    "for i in range(len(lis)):\n",
    "    print(i)\n",
    "#print index values"
   ]
  },
  {
   "cell_type": "code",
   "execution_count": 21,
   "id": "74212c0b",
   "metadata": {},
   "outputs": [
    {
     "name": "stdout",
     "output_type": "stream",
     "text": [
      "banana\n",
      "apple\n",
      "fruit is apple\n",
      "cherry\n",
      "orange\n"
     ]
    }
   ],
   "source": [
    "fruits=[\"banana\",\"apple\",\"cherry\",\"orange\"]\n",
    "for i in fruits:\n",
    "    print(i)\n",
    "    if i==\"apple\":\n",
    "        print(\"fruit is apple\")\n",
    "   \n",
    "   "
   ]
  },
  {
   "cell_type": "raw",
   "id": "036051c7",
   "metadata": {},
   "source": [
    "nested loops"
   ]
  },
  {
   "cell_type": "code",
   "execution_count": 24,
   "id": "f243ce4d",
   "metadata": {},
   "outputs": [
    {
     "name": "stdout",
     "output_type": "stream",
     "text": [
      "1\n",
      "3\n",
      "5\n"
     ]
    }
   ],
   "source": [
    "#range function   #range(start, stop, step)\n",
    "for i in range(1,6,2):\n",
    "    print(i)"
   ]
  },
  {
   "cell_type": "code",
   "execution_count": 27,
   "id": "72f9eed3",
   "metadata": {},
   "outputs": [
    {
     "name": "stdout",
     "output_type": "stream",
     "text": [
      "*\r\n",
      "**\r\n",
      "***\r\n",
      "****\r\n",
      "*****\r\n",
      "******\r\n",
      "*******\r\n"
     ]
    }
   ],
   "source": [
    "n=7\n",
    "for i in range(0,n):\n",
    "    for j in range(0,i+1):\n",
    "        print(\"*\",end=\"\")\n",
    "    print(\"\\r\")"
   ]
  },
  {
   "cell_type": "code",
   "execution_count": 28,
   "id": "6ac7c9f2",
   "metadata": {},
   "outputs": [],
   "source": [
    "#lopp controls"
   ]
  },
  {
   "cell_type": "code",
   "execution_count": 30,
   "id": "92744178",
   "metadata": {},
   "outputs": [
    {
     "name": "stdout",
     "output_type": "stream",
     "text": [
      "banana\n",
      "the frit is apple\n"
     ]
    }
   ],
   "source": [
    "fruits=[\"banana\",\"apple\",\"cherry\",\"orange\"]\n",
    "for i in fruits:\n",
    "    if i==\"apple\":\n",
    "        print(\"the fruit is apple\")\n",
    "        break\n",
    "    print(i)\n",
    "    "
   ]
  },
  {
   "cell_type": "code",
   "execution_count": 31,
   "id": "83e3350e",
   "metadata": {},
   "outputs": [
    {
     "name": "stdout",
     "output_type": "stream",
     "text": [
      "banana\n",
      "the fruit is apple\n",
      "apple\n",
      "cherry\n",
      "orange\n"
     ]
    }
   ],
   "source": [
    "fruits=[\"banana\",\"apple\",\"cherry\",\"orange\"]\n",
    "for i in fruits:\n",
    "    if i==\"apple\":\n",
    "        print(\"the fruit is apple\")\n",
    "        pass\n",
    "    print(i)\n",
    "    "
   ]
  },
  {
   "cell_type": "code",
   "execution_count": 32,
   "id": "59441c10",
   "metadata": {},
   "outputs": [
    {
     "name": "stdout",
     "output_type": "stream",
     "text": [
      "banana\n",
      "the fruit is apple\n",
      "cherry\n",
      "orange\n"
     ]
    }
   ],
   "source": [
    "#skip the loop\n",
    "fruits=[\"banana\",\"apple\",\"cherry\",\"orange\"]\n",
    "for i in fruits:\n",
    "    if i==\"apple\":\n",
    "        print(\"the fruit is apple\")\n",
    "        continue\n",
    "    print(i)\n",
    "    "
   ]
  },
  {
   "cell_type": "code",
   "execution_count": 36,
   "id": "ce754a90",
   "metadata": {},
   "outputs": [
    {
     "name": "stdout",
     "output_type": "stream",
     "text": [
      "PwSkills PwSkills "
     ]
    }
   ],
   "source": [
    "for i in ['Data Science Masters', 'ML', 'data science masters', 'DL']:\n",
    "    if len(i)!= 2:\n",
    "\n",
    "        print('PwSkills' , end=\" \")"
   ]
  },
  {
   "cell_type": "code",
   "execution_count": 37,
   "id": "672fb6a1",
   "metadata": {},
   "outputs": [
    {
     "name": "stdout",
     "output_type": "stream",
     "text": [
      "105\n"
     ]
    }
   ],
   "source": [
    "sum = 0\n",
    "\n",
    "for i in range(1,100):\n",
    "\n",
    "    sum += i\n",
    "\n",
    "    if sum > 100:\n",
    "\n",
    "        break\n",
    "\n",
    "print(sum)"
   ]
  },
  {
   "cell_type": "code",
   "execution_count": null,
   "id": "a2b72738",
   "metadata": {},
   "outputs": [],
   "source": []
  }
 ],
 "metadata": {
  "kernelspec": {
   "display_name": "Python 3 (ipykernel)",
   "language": "python",
   "name": "python3"
  },
  "language_info": {
   "codemirror_mode": {
    "name": "ipython",
    "version": 3
   },
   "file_extension": ".py",
   "mimetype": "text/x-python",
   "name": "python",
   "nbconvert_exporter": "python",
   "pygments_lexer": "ipython3",
   "version": "3.9.12"
  }
 },
 "nbformat": 4,
 "nbformat_minor": 5
}
